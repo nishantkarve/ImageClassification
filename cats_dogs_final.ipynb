{
 "cells": [
  {
   "cell_type": "code",
   "execution_count": 2,
   "metadata": {},
   "outputs": [],
   "source": [
    "# An S3 Bucket Name to hold the data for demo\n",
    "data_bucket_name='animals-demo-bax'\n",
    "\n",
    "# A prefix name inside the S3 bucket containing sub-folders of images (one per label class)\n",
    "# This bucket will have your cats and dogs as separate species (labels)\n",
    "dataset_name = 'animals' "
   ]
  },
  {
   "cell_type": "markdown",
   "metadata": {},
   "source": [
    "## Setting up the environment\n",
    "Here we set up the linkage and authentication to AWS services\n",
    "\n",
    "- The role used to give learning and hosting access to your data. This will automatically be obtained from the role used to start the notebook\n",
    "- A `session` variable that holds some configuration state for interacting with SageMaker from Python and contains some methods for preparing input data\n",
    "- A reference to the Amazon sagemaker image classification docker image \n",
    "\n",
    "More info about the SageMaker built-in Image Classification algorithm here: https://docs.aws.amazon.com/sagemaker/latest/dg/image-classification.html"
   ]
  },
  {
   "cell_type": "code",
   "execution_count": 3,
   "metadata": {},
   "outputs": [
    {
     "name": "stderr",
     "output_type": "stream",
     "text": [
      "The method get_image_uri has been renamed in sagemaker>=2.\n",
      "See: https://sagemaker.readthedocs.io/en/stable/v2.html for details.\n",
      "Defaulting to the only supported framework/algorithm version: 1. Ignoring framework/algorithm version: latest.\n"
     ]
    },
    {
     "name": "stdout",
     "output_type": "stream",
     "text": [
      "811284229777.dkr.ecr.us-east-1.amazonaws.com/image-classification:1\n"
     ]
    }
   ],
   "source": [
    "import sagemaker\n",
    "from sagemaker import get_execution_role\n",
    "from sagemaker.amazon.amazon_estimator import get_image_uri\n",
    "\n",
    "role = get_execution_role()\n",
    "sess = sagemaker.Session()\n",
    "\n",
    "# Here, we use Sagemakers in-built algorithm for image classification. This algoritm is within a container and \n",
    "# is retrieved into the notebook using the following command\n",
    "training_image = get_image_uri(sess.boto_region_name, 'image-classification', repo_version=\"latest\")\n",
    "print(training_image)"
   ]
  },
  {
   "cell_type": "markdown",
   "metadata": {},
   "source": [
    "## Preparing data for our model\n",
    "Before we can train our model, we need to:\n",
    "\n",
    "- Create some files that will teach SageMaker about the images in each of our classes\n",
    "- Upload these additional files to S3\n",
    "- Configure our model to use these files for training and validating"
   ]
  },
  {
   "cell_type": "markdown",
   "metadata": {},
   "source": [
    "### Find the im2rec.py script on this system\n",
    "The SageMaker image classifier algorithm needs to know about which images belong to which classes. We provide this data using either LST or RecordIO files. We'll use a python script called `im2rec.py` to create these files.\n",
    "\n",
    "More info here: https://docs.aws.amazon.com/sagemaker/latest/dg/image-classification.html#IC-inputoutput"
   ]
  },
  {
   "cell_type": "code",
   "execution_count": 4,
   "metadata": {},
   "outputs": [
    {
     "name": "stdout",
     "output_type": "stream",
     "text": [
      "env: BASE_DIR=/tmp\n",
      "env: S3_DATA_BUCKET_NAME=animals-demo-bax\n",
      "env: DATASET_NAME=animals\n",
      "env: IM2REC=/opt/conda/lib/python3.7/site-packages/mxnet/tools/im2rec.py\n"
     ]
    }
   ],
   "source": [
    "# Find im2rec in our environment and set up some other vars in our environemnt\n",
    "\n",
    "base_dir='/tmp'\n",
    "\n",
    "%env BASE_DIR=$base_dir\n",
    "%env S3_DATA_BUCKET_NAME = $data_bucket_name\n",
    "%env DATASET_NAME = $dataset_name\n",
    "\n",
    "import sys,os\n",
    "\n",
    "suffix='/mxnet/tools/im2rec.py'\n",
    "im2rec = list(filter( (lambda x: os.path.isfile(x + suffix )), sys.path))[0] + suffix\n",
    "%env IM2REC=$im2rec"
   ]
  },
  {
   "cell_type": "markdown",
   "metadata": {},
   "source": [
    "### Get our training images from S3\n",
    "In order to create training and validation RecordIO files, we need to download our images to our local filesystem."
   ]
  },
  {
   "cell_type": "code",
   "execution_count": 5,
   "metadata": {},
   "outputs": [],
   "source": [
    "# Pull our images from S3\n",
    "!aws s3 sync s3://$S3_DATA_BUCKET_NAME/$DATASET_NAME $BASE_DIR/$DATASET_NAME --quiet"
   ]
  },
  {
   "cell_type": "markdown",
   "metadata": {},
   "source": [
    "### Create RecordIO files from our training images\n",
    "The `im2rec.py` script can create LST files and/or RecordIO files from our training data. \n",
    "\n",
    "More info here: https://mxnet.incubator.apache.org/versions/master/faq/recordio.html"
   ]
  },
  {
   "cell_type": "code",
   "execution_count": 6,
   "metadata": {},
   "outputs": [
    {
     "name": "stdout",
     "output_type": "stream",
     "text": [
      "Creating LST files\n",
      "Label classes:\n",
      "cats 0\n",
      "dogs 1\n",
      "Creating RecordIO files\n",
      "Creating .rec file from /tmp/animals_train.lst in /tmp\n",
      "time: 0.07325363159179688  count: 0\n",
      "Creating .rec file from /tmp/animals_test.lst in /tmp\n",
      "time: 0.03525996208190918  count: 0\n",
      "-rw-r--r-- 1 root root  69M Aug  5 17:57 animals_test.rec\n",
      "-rw-r--r-- 1 root root 164M Aug  5 17:57 animals_train.rec\n"
     ]
    }
   ],
   "source": [
    "%%bash\n",
    "# Use the IM2REC script to convert our images into RecordIO files\n",
    "\n",
    "# Clean up our working dir of existing LST and REC files\n",
    "cd $BASE_DIR\n",
    "rm *.rec\n",
    "rm *.lst\n",
    "\n",
    "# First we need to create two LST files (training and test lists), noting the correct label class for each image\n",
    "# We'll also save the output of the LST files command, since it includes a list of all of our label classes\n",
    "echo \"Creating LST files\"\n",
    "python $IM2REC --list --recursive --pass-through --test-ratio=0.3 --train-ratio=0.7 $DATASET_NAME $DATASET_NAME > ${DATASET_NAME}_classes\n",
    "\n",
    "echo \"Label classes:\"\n",
    "cat ${DATASET_NAME}_classes\n",
    "\n",
    "# Then we create RecordIO files from the LST files\n",
    "echo \"Creating RecordIO files\"\n",
    "python $IM2REC --num-thread=4 ${DATASET_NAME}_train.lst $DATASET_NAME\n",
    "python $IM2REC --num-thread=4 ${DATASET_NAME}_test.lst $DATASET_NAME\n",
    "ls -lh *.rec"
   ]
  },
  {
   "cell_type": "markdown",
   "metadata": {},
   "source": [
    "### Upload our training and test data RecordIO files so we can train with them\n",
    "Now that we have our training and test .rec files, we upload them to S3 so SageMaker can use them for training"
   ]
  },
  {
   "cell_type": "code",
   "execution_count": 7,
   "metadata": {},
   "outputs": [
    {
     "name": "stdout",
     "output_type": "stream",
     "text": [
      "delete: s3://sagemaker-us-east-1-567669566640/animals/train/animals_train.rec\n",
      "delete: s3://sagemaker-us-east-1-567669566640/animals/validation/animals_test.rec\n",
      "upload: ../tmp/animals_train.rec to s3://sagemaker-us-east-1-567669566640/animals/train/animals_train.rec\n",
      "upload: ../tmp/animals_test.rec to s3://sagemaker-us-east-1-567669566640/animals/validation/animals_test.rec\n"
     ]
    }
   ],
   "source": [
    "# Upload our train and test RecordIO files to S3 in the bucket that our sagemaker session is using\n",
    "bucket = sess.default_bucket()\n",
    "\n",
    "s3train_path = 's3://{}/{}/train/'.format(bucket, dataset_name)\n",
    "s3validation_path = 's3://{}/{}/validation/'.format(bucket, dataset_name)\n",
    "\n",
    "# Clean up any existing data\n",
    "!aws s3 rm s3://{bucket}/{dataset_name}/train --recursive\n",
    "!aws s3 rm s3://{bucket}/{dataset_name}/validation --recursive\n",
    "\n",
    "# Upload the rec files to the train and validation channels\n",
    "!aws s3 cp /tmp/{dataset_name}_train.rec $s3train_path\n",
    "!aws s3 cp /tmp/{dataset_name}_test.rec $s3validation_path"
   ]
  },
  {
   "cell_type": "markdown",
   "metadata": {},
   "source": [
    "### Configure the data for our model training to use\n",
    "Finally, we tell SageMaker where to find these RecordIO files to use for training"
   ]
  },
  {
   "cell_type": "code",
   "execution_count": 8,
   "metadata": {},
   "outputs": [
    {
     "data": {
      "text/plain": [
       "{'train': <sagemaker.inputs.TrainingInput at 0x7f0ae612c190>,\n",
       " 'validation': <sagemaker.inputs.TrainingInput at 0x7f0ae612c210>}"
      ]
     },
     "execution_count": 8,
     "metadata": {},
     "output_type": "execute_result"
    }
   ],
   "source": [
    "train_data = sagemaker.inputs.TrainingInput(\n",
    "    s3train_path, \n",
    "    distribution='FullyReplicated', \n",
    "    content_type='application/x-recordio', \n",
    "    s3_data_type='S3Prefix'\n",
    ")\n",
    "\n",
    "validation_data = sagemaker.inputs.TrainingInput(\n",
    "    s3validation_path, \n",
    "    distribution='FullyReplicated', \n",
    "    content_type='application/x-recordio', \n",
    "    s3_data_type='S3Prefix'\n",
    ")\n",
    "\n",
    "data_channels = {'train': train_data, 'validation': validation_data}\n",
    "data_channels"
   ]
  },
  {
   "cell_type": "markdown",
   "metadata": {},
   "source": [
    "## Training\n",
    "Now it's time to train our model!"
   ]
  },
  {
   "cell_type": "markdown",
   "metadata": {},
   "source": [
    "### Create an image classifier object with some base configuration\n",
    "More info here: https://sagemaker.readthedocs.io/en/stable/estimators.html#sagemaker.estimator.Estimator"
   ]
  },
  {
   "cell_type": "code",
   "execution_count": 9,
   "metadata": {},
   "outputs": [],
   "source": [
    "s3_output_location = 's3://{}/{}/output'.format(bucket, dataset_name)\n",
    "\n",
    "image_classifier = sagemaker.estimator.Estimator(\n",
    "    training_image,\n",
    "    role, \n",
    "    instance_count=1, \n",
    "    instance_type='ml.p3.2xlarge',\n",
    "    output_path=s3_output_location,\n",
    "    sagemaker_session=sess\n",
    ")"
   ]
  },
  {
   "cell_type": "markdown",
   "metadata": {},
   "source": [
    "### Set some training hyperparameters\n",
    "\n",
    "Finally, before we train, we provide some additional configuration parameters for the training.\n",
    "\n",
    "More info here: https://docs.aws.amazon.com/sagemaker/latest/dg/IC-Hyperparameter.html"
   ]
  },
  {
   "cell_type": "code",
   "execution_count": 10,
   "metadata": {},
   "outputs": [
    {
     "name": "stdout",
     "output_type": "stream",
     "text": [
      "2\n",
      "846\n"
     ]
    },
    {
     "data": {
      "text/plain": [
       "{'use_pretrained_model': 1,\n",
       " 'image_shape': '3,150,150',\n",
       " 'num_classes': 2,\n",
       " 'num_training_samples': 846,\n",
       " 'learning_rate': 0.001,\n",
       " 'mini_batch_size': 5}"
      ]
     },
     "execution_count": 10,
     "metadata": {},
     "output_type": "execute_result"
    }
   ],
   "source": [
    "num_classes=! ls -l {base_dir}/{dataset_name} | wc -l\n",
    "num_classes=int(num_classes[0]) - 1\n",
    "print(num_classes)\n",
    "\n",
    "num_training_samples=! cat {base_dir}/{dataset_name}_train.lst | wc -l\n",
    "num_training_samples = int(num_training_samples[0])\n",
    "print(num_training_samples)\n",
    "\n",
    "# Learn more about the Sagemaker built-in Image Classifier hyperparameters here: https://docs.aws.amazon.com/sagemaker/latest/dg/IC-Hyperparameter.html\n",
    "\n",
    "# These hyperparameters we won't want to change, as they define things like\n",
    "# the size of the images we'll be sending for input, the number of training classes we have, etc.\n",
    "base_hyperparameters=dict(\n",
    "    use_pretrained_model=1,\n",
    "    image_shape='3,150,150',\n",
    "    num_classes=num_classes,\n",
    "    num_training_samples=num_training_samples,\n",
    ")\n",
    "\n",
    "# These are hyperparameters we may want to tune, as they can affect the model training success:\n",
    "hyperparameters={\n",
    "    **base_hyperparameters, \n",
    "    **dict(\n",
    "        learning_rate=0.001,\n",
    "        mini_batch_size=5,\n",
    "    )\n",
    "}\n",
    "\n",
    "\n",
    "image_classifier.set_hyperparameters(**hyperparameters)\n",
    "\n",
    "hyperparameters"
   ]
  },
  {
   "cell_type": "markdown",
   "metadata": {},
   "source": [
    "### Start the training\n",
    "Train our model!\n",
    "\n",
    "This will take some time because it's provisioning a new container runtime to train our model, then the actual training happens, then the trained model gets uploaded to S3 and the container is shut down.\n",
    "\n",
    "More info here: https://sagemaker.readthedocs.io/en/stable/estimators.html#sagemaker.estimator.Estimator.fit"
   ]
  },
  {
   "cell_type": "code",
   "execution_count": 11,
   "metadata": {},
   "outputs": [
    {
     "name": "stdout",
     "output_type": "stream",
     "text": [
      "2022-08-05 17:58:12 Starting - Starting the training job...\n",
      "2022-08-05 17:58:37 Starting - Preparing the instances for trainingProfilerReport-1659722292: InProgress\n",
      ".........\n",
      "2022-08-05 18:00:08 Downloading - Downloading input data\n",
      "2022-08-05 18:00:08 Training - Downloading the training image...........\u001b[34mDocker entrypoint called with argument(s): train\u001b[0m\n",
      "\u001b[34m[08/05/2022 18:01:57 INFO 139804867106624] Reading default configuration from /opt/amazon/lib/python3.7/site-packages/image_classification/default-input.json: {'use_pretrained_model': 0, 'num_layers': 152, 'epochs': 30, 'learning_rate': 0.1, 'lr_scheduler_factor': 0.1, 'optimizer': 'sgd', 'momentum': 0, 'weight_decay': 0.0001, 'beta_1': 0.9, 'beta_2': 0.999, 'eps': 1e-08, 'gamma': 0.9, 'mini_batch_size': 32, 'image_shape': '3,224,224', 'precision_dtype': 'float32'}\u001b[0m\n",
      "\u001b[34m[08/05/2022 18:01:57 INFO 139804867106624] Merging with provided configuration from /opt/ml/input/config/hyperparameters.json: {'image_shape': '3,150,150', 'learning_rate': '0.001', 'mini_batch_size': '5', 'num_classes': '2', 'num_training_samples': '846', 'use_pretrained_model': '1'}\u001b[0m\n",
      "\u001b[34m[08/05/2022 18:01:57 INFO 139804867106624] Final configuration: {'use_pretrained_model': '1', 'num_layers': 152, 'epochs': 30, 'learning_rate': '0.001', 'lr_scheduler_factor': 0.1, 'optimizer': 'sgd', 'momentum': 0, 'weight_decay': 0.0001, 'beta_1': 0.9, 'beta_2': 0.999, 'eps': 1e-08, 'gamma': 0.9, 'mini_batch_size': '5', 'image_shape': '3,150,150', 'precision_dtype': 'float32', 'num_classes': '2', 'num_training_samples': '846'}\u001b[0m\n",
      "\u001b[34m[08/05/2022 18:01:57 INFO 139804867106624] Searching for .rec files in /opt/ml/input/data/train.\u001b[0m\n",
      "\u001b[34m[08/05/2022 18:01:57 INFO 139804867106624] Searching for .rec files in /opt/ml/input/data/validation.\u001b[0m\n",
      "\u001b[34m[08/05/2022 18:01:57 INFO 139804867106624] use_pretrained_model: 1\u001b[0m\n",
      "\u001b[34m[08/05/2022 18:01:57 INFO 139804867106624] multi_label: 0\u001b[0m\n",
      "\u001b[34m[08/05/2022 18:01:57 INFO 139804867106624] Using pretrained model for initializing weights and transfer learning.\u001b[0m\n",
      "\u001b[34m[08/05/2022 18:01:57 INFO 139804867106624] ---- Parameters ----\u001b[0m\n",
      "\u001b[34m[08/05/2022 18:01:57 INFO 139804867106624] num_layers: 152\u001b[0m\n",
      "\u001b[34m[08/05/2022 18:01:57 INFO 139804867106624] data type: <class 'numpy.float32'>\u001b[0m\n",
      "\u001b[34m[08/05/2022 18:01:57 INFO 139804867106624] epochs: 30\u001b[0m\n",
      "\u001b[34m[08/05/2022 18:01:57 INFO 139804867106624] optimizer: sgd\u001b[0m\n",
      "\u001b[34m[08/05/2022 18:01:57 INFO 139804867106624] momentum: 0.9\u001b[0m\n",
      "\u001b[34m[08/05/2022 18:01:57 INFO 139804867106624] weight_decay: 0.0001\u001b[0m\n",
      "\u001b[34m[08/05/2022 18:01:57 INFO 139804867106624] learning_rate: 0.001\u001b[0m\n",
      "\u001b[34m[08/05/2022 18:01:57 INFO 139804867106624] num_training_samples: 846\u001b[0m\n",
      "\u001b[34m[08/05/2022 18:01:57 INFO 139804867106624] mini_batch_size: 5\u001b[0m\n",
      "\u001b[34m[08/05/2022 18:01:57 INFO 139804867106624] image_shape: 3,150,150\u001b[0m\n",
      "\u001b[34m[08/05/2022 18:01:57 INFO 139804867106624] num_classes: 2\u001b[0m\n",
      "\u001b[34m[08/05/2022 18:01:57 INFO 139804867106624] augmentation_type: None\u001b[0m\n",
      "\u001b[34m[08/05/2022 18:01:57 INFO 139804867106624] kv_store: device\u001b[0m\n",
      "\u001b[34m[08/05/2022 18:01:57 INFO 139804867106624] checkpoint_frequency not set, will store the best model\u001b[0m\n",
      "\u001b[34m[08/05/2022 18:01:57 INFO 139804867106624] --------------------\u001b[0m\n",
      "\u001b[34m[18:01:57] /opt/brazil-pkg-cache/packages/AIAlgorithmsMXNet/AIAlgorithmsMXNet-1.4.x_ecl_Cuda_10.1.x.300.0/AL2_x86_64/generic-flavor/src/src/nnvm/legacy_json_util.cc:209: Loading symbol saved by previous version v0.8.0. Attempting to upgrade...\u001b[0m\n",
      "\u001b[34m[18:01:57] /opt/brazil-pkg-cache/packages/AIAlgorithmsMXNet/AIAlgorithmsMXNet-1.4.x_ecl_Cuda_10.1.x.300.0/AL2_x86_64/generic-flavor/src/src/nnvm/legacy_json_util.cc:217: Symbol successfully upgraded!\u001b[0m\n",
      "\u001b[34m[08/05/2022 18:01:58 INFO 139804867106624] Setting number of threads: 7\u001b[0m\n",
      "\n",
      "2022-08-05 18:01:58 Training - Training image download completed. Training in progress.\u001b[34m[18:02:07] /opt/brazil-pkg-cache/packages/AIAlgorithmsMXNet/AIAlgorithmsMXNet-1.4.x_ecl_Cuda_10.1.x.300.0/AL2_x86_64/generic-flavor/src/src/operator/nn/./cudnn/./cudnn_algoreg-inl.h:97: Running performance tests to find the best convolution algorithm, this can take a while... (setting env variable MXNET_CUDNN_AUTOTUNE_DEFAULT to 0 to disable)\u001b[0m\n",
      "\u001b[34m[08/05/2022 18:02:12 INFO 139804867106624] Epoch[0] Batch [20]#011Speed: 19.291 samples/sec#011accuracy=0.628571\u001b[0m\n",
      "\u001b[34m[08/05/2022 18:02:15 INFO 139804867106624] Epoch[0] Batch [40]#011Speed: 24.775 samples/sec#011accuracy=0.678049\u001b[0m\n",
      "\u001b[34m[08/05/2022 18:02:18 INFO 139804867106624] Epoch[0] Batch [60]#011Speed: 27.331 samples/sec#011accuracy=0.688525\u001b[0m\n",
      "\u001b[34m[08/05/2022 18:02:21 INFO 139804867106624] Epoch[0] Batch [80]#011Speed: 28.929 samples/sec#011accuracy=0.691358\u001b[0m\n",
      "\u001b[34m[08/05/2022 18:02:24 INFO 139804867106624] Epoch[0] Batch [100]#011Speed: 29.940 samples/sec#011accuracy=0.681188\u001b[0m\n",
      "\u001b[34m[08/05/2022 18:02:26 INFO 139804867106624] Epoch[0] Batch [120]#011Speed: 30.644 samples/sec#011accuracy=0.677686\u001b[0m\n",
      "\u001b[34m[08/05/2022 18:02:29 INFO 139804867106624] Epoch[0] Batch [140]#011Speed: 31.202 samples/sec#011accuracy=0.676596\u001b[0m\n",
      "\u001b[34m[08/05/2022 18:02:32 INFO 139804867106624] Epoch[0] Batch [160]#011Speed: 31.702 samples/sec#011accuracy=0.659627\u001b[0m\n",
      "\u001b[34m[08/05/2022 18:02:33 INFO 139804867106624] Epoch[0] Train-accuracy=0.655621\u001b[0m\n",
      "\u001b[34m[08/05/2022 18:02:33 INFO 139804867106624] Epoch[0] Time cost=26.308\u001b[0m\n",
      "\u001b[34m[08/05/2022 18:02:36 INFO 139804867106624] Epoch[0] Validation-accuracy=0.709589\u001b[0m\n",
      "\u001b[34m[08/05/2022 18:02:36 INFO 139804867106624] Storing the best model with validation accuracy: 0.709589\u001b[0m\n",
      "\u001b[34m[08/05/2022 18:02:37 INFO 139804867106624] Saved checkpoint to \"/opt/ml/model/image-classification-0001.params\"\u001b[0m\n",
      "\u001b[34m[08/05/2022 18:02:40 INFO 139804867106624] Epoch[1] Batch [20]#011Speed: 32.381 samples/sec#011accuracy=0.704762\u001b[0m\n",
      "\u001b[34m[08/05/2022 18:02:43 INFO 139804867106624] Epoch[1] Batch [40]#011Speed: 33.226 samples/sec#011accuracy=0.673171\u001b[0m\n",
      "\u001b[34m[08/05/2022 18:02:46 INFO 139804867106624] Epoch[1] Batch [60]#011Speed: 33.914 samples/sec#011accuracy=0.704918\u001b[0m\n",
      "\u001b[34m[08/05/2022 18:02:48 INFO 139804867106624] Epoch[1] Batch [80]#011Speed: 34.170 samples/sec#011accuracy=0.701235\u001b[0m\n",
      "\u001b[34m[08/05/2022 18:02:51 INFO 139804867106624] Epoch[1] Batch [100]#011Speed: 34.145 samples/sec#011accuracy=0.699010\u001b[0m\n",
      "\u001b[34m[08/05/2022 18:02:54 INFO 139804867106624] Epoch[1] Batch [120]#011Speed: 34.194 samples/sec#011accuracy=0.714050\u001b[0m\n",
      "\u001b[34m[08/05/2022 18:02:57 INFO 139804867106624] Epoch[1] Batch [140]#011Speed: 34.207 samples/sec#011accuracy=0.717730\u001b[0m\n",
      "\u001b[34m[08/05/2022 18:03:00 INFO 139804867106624] Epoch[1] Batch [160]#011Speed: 34.338 samples/sec#011accuracy=0.708075\u001b[0m\n",
      "\u001b[34m[08/05/2022 18:03:01 INFO 139804867106624] Epoch[1] Train-accuracy=0.702959\u001b[0m\n",
      "\u001b[34m[08/05/2022 18:03:01 INFO 139804867106624] Epoch[1] Time cost=24.376\u001b[0m\n",
      "\u001b[34m[08/05/2022 18:03:03 INFO 139804867106624] Epoch[1] Validation-accuracy=0.675000\u001b[0m\n",
      "\u001b[34m[08/05/2022 18:03:08 INFO 139804867106624] Epoch[2] Batch [20]#011Speed: 30.274 samples/sec#011accuracy=0.619048\u001b[0m\n",
      "\u001b[34m[08/05/2022 18:03:10 INFO 139804867106624] Epoch[2] Batch [40]#011Speed: 32.496 samples/sec#011accuracy=0.707317\u001b[0m\n",
      "\u001b[34m[08/05/2022 18:03:13 INFO 139804867106624] Epoch[2] Batch [60]#011Speed: 33.259 samples/sec#011accuracy=0.727869\u001b[0m\n",
      "\u001b[34m[08/05/2022 18:03:16 INFO 139804867106624] Epoch[2] Batch [80]#011Speed: 33.690 samples/sec#011accuracy=0.730864\u001b[0m\n",
      "\u001b[34m[08/05/2022 18:03:19 INFO 139804867106624] Epoch[2] Batch [100]#011Speed: 33.822 samples/sec#011accuracy=0.726733\u001b[0m\n",
      "\u001b[34m[08/05/2022 18:03:22 INFO 139804867106624] Epoch[2] Batch [120]#011Speed: 33.974 samples/sec#011accuracy=0.745455\u001b[0m\n",
      "\u001b[34m[08/05/2022 18:03:25 INFO 139804867106624] Epoch[2] Batch [140]#011Speed: 34.138 samples/sec#011accuracy=0.747518\u001b[0m\n",
      "\u001b[34m[08/05/2022 18:03:28 INFO 139804867106624] Epoch[2] Batch [160]#011Speed: 34.304 samples/sec#011accuracy=0.745342\u001b[0m\n",
      "\u001b[34m[08/05/2022 18:03:29 INFO 139804867106624] Epoch[2] Train-accuracy=0.747929\u001b[0m\n",
      "\u001b[34m[08/05/2022 18:03:29 INFO 139804867106624] Epoch[2] Time cost=24.402\u001b[0m\n",
      "\u001b[34m[08/05/2022 18:03:31 INFO 139804867106624] Epoch[2] Validation-accuracy=0.772603\u001b[0m\n",
      "\u001b[34m[08/05/2022 18:03:31 INFO 139804867106624] Storing the best model with validation accuracy: 0.772603\u001b[0m\n",
      "\u001b[34m[08/05/2022 18:03:32 INFO 139804867106624] Saved checkpoint to \"/opt/ml/model/image-classification-0003.params\"\u001b[0m\n",
      "\u001b[34m[08/05/2022 18:03:35 INFO 139804867106624] Epoch[3] Batch [20]#011Speed: 32.694 samples/sec#011accuracy=0.742857\u001b[0m\n",
      "\u001b[34m[08/05/2022 18:03:38 INFO 139804867106624] Epoch[3] Batch [40]#011Speed: 33.776 samples/sec#011accuracy=0.756098\u001b[0m\n",
      "\u001b[34m[08/05/2022 18:03:41 INFO 139804867106624] Epoch[3] Batch [60]#011Speed: 34.335 samples/sec#011accuracy=0.773770\u001b[0m\n",
      "\u001b[34m[08/05/2022 18:03:43 INFO 139804867106624] Epoch[3] Batch [80]#011Speed: 34.484 samples/sec#011accuracy=0.792593\u001b[0m\n",
      "\u001b[34m[08/05/2022 18:03:46 INFO 139804867106624] Epoch[3] Batch [100]#011Speed: 34.595 samples/sec#011accuracy=0.790099\u001b[0m\n",
      "\u001b[34m[08/05/2022 18:03:49 INFO 139804867106624] Epoch[3] Batch [120]#011Speed: 34.628 samples/sec#011accuracy=0.788430\u001b[0m\n",
      "\u001b[34m[08/05/2022 18:03:52 INFO 139804867106624] Epoch[3] Batch [140]#011Speed: 34.632 samples/sec#011accuracy=0.792908\u001b[0m\n",
      "\u001b[34m[08/05/2022 18:03:55 INFO 139804867106624] Epoch[3] Batch [160]#011Speed: 34.704 samples/sec#011accuracy=0.795031\u001b[0m\n",
      "\u001b[34m[08/05/2022 18:03:56 INFO 139804867106624] Epoch[3] Train-accuracy=0.802367\u001b[0m\n",
      "\u001b[34m[08/05/2022 18:03:56 INFO 139804867106624] Epoch[3] Time cost=24.150\u001b[0m\n",
      "\u001b[34m[08/05/2022 18:03:58 INFO 139804867106624] Epoch[3] Validation-accuracy=0.777778\u001b[0m\n",
      "\u001b[34m[08/05/2022 18:03:59 INFO 139804867106624] Storing the best model with validation accuracy: 0.777778\u001b[0m\n",
      "\u001b[34m[08/05/2022 18:03:59 INFO 139804867106624] Saved checkpoint to \"/opt/ml/model/image-classification-0004.params\"\u001b[0m\n",
      "\u001b[34m[08/05/2022 18:04:02 INFO 139804867106624] Epoch[4] Batch [20]#011Speed: 30.970 samples/sec#011accuracy=0.819048\u001b[0m\n",
      "\u001b[34m[08/05/2022 18:04:05 INFO 139804867106624] Epoch[4] Batch [40]#011Speed: 31.740 samples/sec#011accuracy=0.819512\u001b[0m\n",
      "\u001b[34m[08/05/2022 18:04:08 INFO 139804867106624] Epoch[4] Batch [60]#011Speed: 32.454 samples/sec#011accuracy=0.832787\u001b[0m\n",
      "\u001b[34m[08/05/2022 18:04:11 INFO 139804867106624] Epoch[4] Batch [80]#011Speed: 32.990 samples/sec#011accuracy=0.829630\u001b[0m\n",
      "\u001b[34m[08/05/2022 18:04:14 INFO 139804867106624] Epoch[4] Batch [100]#011Speed: 33.382 samples/sec#011accuracy=0.825743\u001b[0m\n",
      "\u001b[34m[08/05/2022 18:04:17 INFO 139804867106624] Epoch[4] Batch [120]#011Speed: 33.612 samples/sec#011accuracy=0.823140\u001b[0m\n",
      "\u001b[34m[08/05/2022 18:04:20 INFO 139804867106624] Epoch[4] Batch [140]#011Speed: 33.793 samples/sec#011accuracy=0.817021\u001b[0m\n",
      "\u001b[34m[08/05/2022 18:04:23 INFO 139804867106624] Epoch[4] Batch [160]#011Speed: 33.994 samples/sec#011accuracy=0.809938\u001b[0m\n",
      "\u001b[34m[08/05/2022 18:04:24 INFO 139804867106624] Epoch[4] Train-accuracy=0.814201\u001b[0m\n",
      "\u001b[34m[08/05/2022 18:04:24 INFO 139804867106624] Epoch[4] Time cost=24.602\u001b[0m\n",
      "\u001b[34m[08/05/2022 18:04:26 INFO 139804867106624] Epoch[4] Validation-accuracy=0.800000\u001b[0m\n",
      "\u001b[34m[08/05/2022 18:04:26 INFO 139804867106624] Storing the best model with validation accuracy: 0.800000\u001b[0m\n",
      "\u001b[34m[08/05/2022 18:04:27 INFO 139804867106624] Saved checkpoint to \"/opt/ml/model/image-classification-0005.params\"\u001b[0m\n",
      "\u001b[34m[08/05/2022 18:04:30 INFO 139804867106624] Epoch[5] Batch [20]#011Speed: 31.451 samples/sec#011accuracy=0.847619\u001b[0m\n",
      "\u001b[34m[08/05/2022 18:04:33 INFO 139804867106624] Epoch[5] Batch [40]#011Speed: 32.790 samples/sec#011accuracy=0.839024\u001b[0m\n",
      "\u001b[34m[08/05/2022 18:04:36 INFO 139804867106624] Epoch[5] Batch [60]#011Speed: 33.536 samples/sec#011accuracy=0.845902\u001b[0m\n",
      "\u001b[34m[08/05/2022 18:04:39 INFO 139804867106624] Epoch[5] Batch [80]#011Speed: 33.880 samples/sec#011accuracy=0.844444\u001b[0m\n",
      "\u001b[34m[08/05/2022 18:04:41 INFO 139804867106624] Epoch[5] Batch [100]#011Speed: 34.037 samples/sec#011accuracy=0.839604\u001b[0m\n",
      "\u001b[34m[08/05/2022 18:04:44 INFO 139804867106624] Epoch[5] Batch [120]#011Speed: 34.152 samples/sec#011accuracy=0.833058\u001b[0m\n",
      "\u001b[34m[08/05/2022 18:04:47 INFO 139804867106624] Epoch[5] Batch [140]#011Speed: 34.239 samples/sec#011accuracy=0.835461\u001b[0m\n",
      "\u001b[34m[08/05/2022 18:04:50 INFO 139804867106624] Epoch[5] Batch [160]#011Speed: 34.401 samples/sec#011accuracy=0.828571\u001b[0m\n",
      "\u001b[34m[08/05/2022 18:04:51 INFO 139804867106624] Epoch[5] Train-accuracy=0.827219\u001b[0m\n",
      "\u001b[34m[08/05/2022 18:04:51 INFO 139804867106624] Epoch[5] Time cost=24.339\u001b[0m\n",
      "\u001b[34m[08/05/2022 18:04:53 INFO 139804867106624] Epoch[5] Validation-accuracy=0.750685\u001b[0m\n",
      "\u001b[34m[08/05/2022 18:04:57 INFO 139804867106624] Epoch[6] Batch [20]#011Speed: 31.678 samples/sec#011accuracy=0.819048\u001b[0m\n",
      "\u001b[34m[08/05/2022 18:05:00 INFO 139804867106624] Epoch[6] Batch [40]#011Speed: 33.166 samples/sec#011accuracy=0.858537\u001b[0m\n",
      "\u001b[34m[08/05/2022 18:05:03 INFO 139804867106624] Epoch[6] Batch [60]#011Speed: 33.365 samples/sec#011accuracy=0.855738\u001b[0m\n",
      "\u001b[34m[08/05/2022 18:05:06 INFO 139804867106624] Epoch[6] Batch [80]#011Speed: 32.901 samples/sec#011accuracy=0.871605\u001b[0m\n",
      "\u001b[34m[08/05/2022 18:05:09 INFO 139804867106624] Epoch[6] Batch [100]#011Speed: 33.281 samples/sec#011accuracy=0.885149\u001b[0m\n",
      "\u001b[34m[08/05/2022 18:05:12 INFO 139804867106624] Epoch[6] Batch [120]#011Speed: 33.467 samples/sec#011accuracy=0.885950\u001b[0m\n",
      "\u001b[34m[08/05/2022 18:05:15 INFO 139804867106624] Epoch[6] Batch [140]#011Speed: 33.661 samples/sec#011accuracy=0.879433\u001b[0m\n",
      "\u001b[34m[08/05/2022 18:05:18 INFO 139804867106624] Epoch[6] Batch [160]#011Speed: 33.914 samples/sec#011accuracy=0.872050\u001b[0m\n",
      "\u001b[34m[08/05/2022 18:05:19 INFO 139804867106624] Epoch[6] Train-accuracy=0.874556\u001b[0m\n",
      "\u001b[34m[08/05/2022 18:05:19 INFO 139804867106624] Epoch[6] Time cost=24.683\u001b[0m\n",
      "\u001b[34m[08/05/2022 18:05:21 INFO 139804867106624] Epoch[6] Validation-accuracy=0.741667\u001b[0m\n",
      "\u001b[34m[08/05/2022 18:05:25 INFO 139804867106624] Epoch[7] Batch [20]#011Speed: 32.942 samples/sec#011accuracy=0.904762\u001b[0m\n",
      "\u001b[34m[08/05/2022 18:05:28 INFO 139804867106624] Epoch[7] Batch [40]#011Speed: 33.704 samples/sec#011accuracy=0.926829\u001b[0m\n",
      "\u001b[34m[08/05/2022 18:05:31 INFO 139804867106624] Epoch[7] Batch [60]#011Speed: 34.195 samples/sec#011accuracy=0.911475\u001b[0m\n",
      "\u001b[34m[08/05/2022 18:05:34 INFO 139804867106624] Epoch[7] Batch [80]#011Speed: 34.245 samples/sec#011accuracy=0.913580\u001b[0m\n",
      "\u001b[34m[08/05/2022 18:05:36 INFO 139804867106624] Epoch[7] Batch [100]#011Speed: 34.414 samples/sec#011accuracy=0.918812\u001b[0m\n",
      "\u001b[34m[08/05/2022 18:05:39 INFO 139804867106624] Epoch[7] Batch [120]#011Speed: 34.539 samples/sec#011accuracy=0.919008\u001b[0m\n",
      "\u001b[34m[08/05/2022 18:05:42 INFO 139804867106624] Epoch[7] Batch [140]#011Speed: 34.623 samples/sec#011accuracy=0.917730\u001b[0m\n",
      "\u001b[34m[08/05/2022 18:05:45 INFO 139804867106624] Epoch[7] Batch [160]#011Speed: 34.703 samples/sec#011accuracy=0.908075\u001b[0m\n",
      "\u001b[34m[08/05/2022 18:05:46 INFO 139804867106624] Epoch[7] Train-accuracy=0.905325\u001b[0m\n",
      "\u001b[34m[08/05/2022 18:05:46 INFO 139804867106624] Epoch[7] Time cost=24.131\u001b[0m\n",
      "\u001b[34m[08/05/2022 18:05:48 INFO 139804867106624] Epoch[7] Validation-accuracy=0.758904\u001b[0m\n",
      "\u001b[34m[08/05/2022 18:05:52 INFO 139804867106624] Epoch[8] Batch [20]#011Speed: 32.869 samples/sec#011accuracy=0.866667\u001b[0m\n",
      "\u001b[34m[08/05/2022 18:05:55 INFO 139804867106624] Epoch[8] Batch [40]#011Speed: 33.779 samples/sec#011accuracy=0.878049\u001b[0m\n",
      "\u001b[34m[08/05/2022 18:05:58 INFO 139804867106624] Epoch[8] Batch [60]#011Speed: 34.115 samples/sec#011accuracy=0.872131\u001b[0m\n",
      "\u001b[34m[08/05/2022 18:06:01 INFO 139804867106624] Epoch[8] Batch [80]#011Speed: 34.145 samples/sec#011accuracy=0.891358\u001b[0m\n",
      "\u001b[34m[08/05/2022 18:06:04 INFO 139804867106624] Epoch[8] Batch [100]#011Speed: 34.093 samples/sec#011accuracy=0.893069\u001b[0m\n",
      "\u001b[34m[08/05/2022 18:06:07 INFO 139804867106624] Epoch[8] Batch [120]#011Speed: 33.561 samples/sec#011accuracy=0.894215\u001b[0m\n",
      "\u001b[34m[08/05/2022 18:06:10 INFO 139804867106624] Epoch[8] Batch [140]#011Speed: 33.740 samples/sec#011accuracy=0.895035\u001b[0m\n",
      "\u001b[34m[08/05/2022 18:06:13 INFO 139804867106624] Epoch[8] Batch [160]#011Speed: 33.900 samples/sec#011accuracy=0.891925\u001b[0m\n",
      "\u001b[34m[08/05/2022 18:06:14 INFO 139804867106624] Epoch[8] Train-accuracy=0.895858\u001b[0m\n",
      "\u001b[34m[08/05/2022 18:06:14 INFO 139804867106624] Epoch[8] Time cost=24.732\u001b[0m\n",
      "\u001b[34m[08/05/2022 18:06:16 INFO 139804867106624] Epoch[8] Validation-accuracy=0.783333\u001b[0m\n",
      "\u001b[34m[08/05/2022 18:06:20 INFO 139804867106624] Epoch[9] Batch [20]#011Speed: 32.917 samples/sec#011accuracy=0.857143\u001b[0m\n",
      "\u001b[34m[08/05/2022 18:06:23 INFO 139804867106624] Epoch[9] Batch [40]#011Speed: 33.512 samples/sec#011accuracy=0.902439\u001b[0m\n",
      "\u001b[34m[08/05/2022 18:06:26 INFO 139804867106624] Epoch[9] Batch [60]#011Speed: 33.878 samples/sec#011accuracy=0.914754\u001b[0m\n",
      "\u001b[34m[08/05/2022 18:06:29 INFO 139804867106624] Epoch[9] Batch [80]#011Speed: 34.096 samples/sec#011accuracy=0.925926\u001b[0m\n",
      "\u001b[34m[08/05/2022 18:06:31 INFO 139804867106624] Epoch[9] Batch [100]#011Speed: 34.183 samples/sec#011accuracy=0.934653\u001b[0m\n",
      "\u001b[34m[08/05/2022 18:06:34 INFO 139804867106624] Epoch[9] Batch [120]#011Speed: 34.382 samples/sec#011accuracy=0.940496\u001b[0m\n",
      "\u001b[34m[08/05/2022 18:06:37 INFO 139804867106624] Epoch[9] Batch [140]#011Speed: 34.368 samples/sec#011accuracy=0.934752\u001b[0m\n",
      "\u001b[34m[08/05/2022 18:06:40 INFO 139804867106624] Epoch[9] Batch [160]#011Speed: 34.575 samples/sec#011accuracy=0.922981\u001b[0m\n",
      "\u001b[34m[08/05/2022 18:06:41 INFO 139804867106624] Epoch[9] Train-accuracy=0.924260\u001b[0m\n",
      "\u001b[34m[08/05/2022 18:06:41 INFO 139804867106624] Epoch[9] Time cost=24.235\u001b[0m\n",
      "\u001b[34m[08/05/2022 18:06:43 INFO 139804867106624] Epoch[9] Validation-accuracy=0.769444\u001b[0m\n",
      "\u001b[34m[08/05/2022 18:06:47 INFO 139804867106624] Epoch[10] Batch [20]#011Speed: 31.490 samples/sec#011accuracy=0.876190\u001b[0m\n",
      "\u001b[34m[08/05/2022 18:06:50 INFO 139804867106624] Epoch[10] Batch [40]#011Speed: 33.050 samples/sec#011accuracy=0.878049\u001b[0m\n",
      "\u001b[34m[08/05/2022 18:06:53 INFO 139804867106624] Epoch[10] Batch [60]#011Speed: 33.626 samples/sec#011accuracy=0.878689\u001b[0m\n",
      "\u001b[34m[08/05/2022 18:06:56 INFO 139804867106624] Epoch[10] Batch [80]#011Speed: 33.974 samples/sec#011accuracy=0.879012\u001b[0m\n",
      "\u001b[34m[08/05/2022 18:06:59 INFO 139804867106624] Epoch[10] Batch [100]#011Speed: 34.032 samples/sec#011accuracy=0.889109\u001b[0m\n",
      "\u001b[34m[08/05/2022 18:07:02 INFO 139804867106624] Epoch[10] Batch [120]#011Speed: 33.934 samples/sec#011accuracy=0.897521\u001b[0m\n",
      "\u001b[34m[08/05/2022 18:07:05 INFO 139804867106624] Epoch[10] Batch [140]#011Speed: 33.565 samples/sec#011accuracy=0.903546\u001b[0m\n",
      "\u001b[34m[08/05/2022 18:07:08 INFO 139804867106624] Epoch[10] Batch [160]#011Speed: 33.800 samples/sec#011accuracy=0.905590\u001b[0m\n",
      "\u001b[34m[08/05/2022 18:07:09 INFO 139804867106624] Epoch[10] Train-accuracy=0.899408\u001b[0m\n",
      "\u001b[34m[08/05/2022 18:07:09 INFO 139804867106624] Epoch[10] Time cost=24.747\u001b[0m\n",
      "\u001b[34m[08/05/2022 18:07:11 INFO 139804867106624] Epoch[10] Validation-accuracy=0.767123\u001b[0m\n",
      "\u001b[34m[08/05/2022 18:07:15 INFO 139804867106624] Epoch[11] Batch [20]#011Speed: 33.030 samples/sec#011accuracy=0.952381\u001b[0m\n",
      "\u001b[34m[08/05/2022 18:07:18 INFO 139804867106624] Epoch[11] Batch [40]#011Speed: 33.839 samples/sec#011accuracy=0.951220\u001b[0m\n",
      "\u001b[34m[08/05/2022 18:07:21 INFO 139804867106624] Epoch[11] Batch [60]#011Speed: 34.198 samples/sec#011accuracy=0.927869\u001b[0m\n",
      "\u001b[34m[08/05/2022 18:07:23 INFO 139804867106624] Epoch[11] Batch [80]#011Speed: 34.449 samples/sec#011accuracy=0.928395\u001b[0m\n",
      "\u001b[34m[08/05/2022 18:07:26 INFO 139804867106624] Epoch[11] Batch [100]#011Speed: 34.392 samples/sec#011accuracy=0.916832\u001b[0m\n",
      "\u001b[34m[08/05/2022 18:07:29 INFO 139804867106624] Epoch[11] Batch [120]#011Speed: 34.556 samples/sec#011accuracy=0.905785\u001b[0m\n",
      "\u001b[34m[08/05/2022 18:07:32 INFO 139804867106624] Epoch[11] Batch [140]#011Speed: 34.487 samples/sec#011accuracy=0.912057\u001b[0m\n",
      "\u001b[34m[08/05/2022 18:07:35 INFO 139804867106624] Epoch[11] Batch [160]#011Speed: 34.618 samples/sec#011accuracy=0.909317\u001b[0m\n",
      "\u001b[34m[08/05/2022 18:07:36 INFO 139804867106624] Epoch[11] Train-accuracy=0.912426\u001b[0m\n",
      "\u001b[34m[08/05/2022 18:07:36 INFO 139804867106624] Epoch[11] Time cost=24.187\u001b[0m\n",
      "\u001b[34m[08/05/2022 18:07:38 INFO 139804867106624] Epoch[11] Validation-accuracy=0.797222\u001b[0m\n",
      "\u001b[34m[08/05/2022 18:07:42 INFO 139804867106624] Epoch[12] Batch [20]#011Speed: 31.872 samples/sec#011accuracy=0.961905\u001b[0m\n",
      "\u001b[34m[08/05/2022 18:07:45 INFO 139804867106624] Epoch[12] Batch [40]#011Speed: 33.038 samples/sec#011accuracy=0.941463\u001b[0m\n",
      "\u001b[34m[08/05/2022 18:07:48 INFO 139804867106624] Epoch[12] Batch [60]#011Speed: 33.398 samples/sec#011accuracy=0.944262\u001b[0m\n",
      "\u001b[34m[08/05/2022 18:07:51 INFO 139804867106624] Epoch[12] Batch [80]#011Speed: 33.680 samples/sec#011accuracy=0.953086\u001b[0m\n",
      "\u001b[34m[08/05/2022 18:07:54 INFO 139804867106624] Epoch[12] Batch [100]#011Speed: 33.865 samples/sec#011accuracy=0.932673\u001b[0m\n",
      "\u001b[34m[08/05/2022 18:07:57 INFO 139804867106624] Epoch[12] Batch [120]#011Speed: 34.030 samples/sec#011accuracy=0.940496\u001b[0m\n",
      "\u001b[34m[08/05/2022 18:07:59 INFO 139804867106624] Epoch[12] Batch [140]#011Speed: 34.152 samples/sec#011accuracy=0.937589\u001b[0m\n",
      "\u001b[34m[08/05/2022 18:08:02 INFO 139804867106624] Epoch[12] Batch [160]#011Speed: 34.246 samples/sec#011accuracy=0.932919\u001b[0m\n",
      "\u001b[34m[08/05/2022 18:08:03 INFO 139804867106624] Epoch[12] Train-accuracy=0.926627\u001b[0m\n",
      "\u001b[34m[08/05/2022 18:08:03 INFO 139804867106624] Epoch[12] Time cost=24.443\u001b[0m\n",
      "\u001b[34m[08/05/2022 18:08:06 INFO 139804867106624] Epoch[12] Validation-accuracy=0.791781\u001b[0m\n",
      "\u001b[34m[08/05/2022 18:08:10 INFO 139804867106624] Epoch[13] Batch [20]#011Speed: 32.531 samples/sec#011accuracy=0.942857\u001b[0m\n",
      "\u001b[34m[08/05/2022 18:08:12 INFO 139804867106624] Epoch[13] Batch [40]#011Speed: 33.692 samples/sec#011accuracy=0.936585\u001b[0m\n",
      "\u001b[34m[08/05/2022 18:08:15 INFO 139804867106624] Epoch[13] Batch [60]#011Speed: 34.187 samples/sec#011accuracy=0.934426\u001b[0m\n",
      "\u001b[34m[08/05/2022 18:08:18 INFO 139804867106624] Epoch[13] Batch [80]#011Speed: 34.425 samples/sec#011accuracy=0.933333\u001b[0m\n",
      "\u001b[34m[08/05/2022 18:08:21 INFO 139804867106624] Epoch[13] Batch [100]#011Speed: 34.451 samples/sec#011accuracy=0.938614\u001b[0m\n",
      "\u001b[34m[08/05/2022 18:08:24 INFO 139804867106624] Epoch[13] Batch [120]#011Speed: 34.506 samples/sec#011accuracy=0.935537\u001b[0m\n",
      "\u001b[34m[08/05/2022 18:08:27 INFO 139804867106624] Epoch[13] Batch [140]#011Speed: 34.535 samples/sec#011accuracy=0.933333\u001b[0m\n",
      "\u001b[34m[08/05/2022 18:08:30 INFO 139804867106624] Epoch[13] Batch [160]#011Speed: 34.645 samples/sec#011accuracy=0.924224\u001b[0m\n",
      "\u001b[34m[08/05/2022 18:08:31 INFO 139804867106624] Epoch[13] Train-accuracy=0.918343\u001b[0m\n",
      "\u001b[34m[08/05/2022 18:08:31 INFO 139804867106624] Epoch[13] Time cost=24.175\u001b[0m\n",
      "\u001b[34m[08/05/2022 18:08:33 INFO 139804867106624] Epoch[13] Validation-accuracy=0.747222\u001b[0m\n",
      "\u001b[34m[08/05/2022 18:08:37 INFO 139804867106624] Epoch[14] Batch [20]#011Speed: 32.661 samples/sec#011accuracy=0.914286\u001b[0m\n",
      "\u001b[34m[08/05/2022 18:08:40 INFO 139804867106624] Epoch[14] Batch [40]#011Speed: 33.599 samples/sec#011accuracy=0.926829\u001b[0m\n",
      "\u001b[34m[08/05/2022 18:08:43 INFO 139804867106624] Epoch[14] Batch [60]#011Speed: 33.944 samples/sec#011accuracy=0.931148\u001b[0m\n",
      "\u001b[34m[08/05/2022 18:08:45 INFO 139804867106624] Epoch[14] Batch [80]#011Speed: 34.313 samples/sec#011accuracy=0.928395\u001b[0m\n",
      "\u001b[34m[08/05/2022 18:08:48 INFO 139804867106624] Epoch[14] Batch [100]#011Speed: 34.405 samples/sec#011accuracy=0.926733\u001b[0m\n",
      "\u001b[34m[08/05/2022 18:08:51 INFO 139804867106624] Epoch[14] Batch [120]#011Speed: 34.418 samples/sec#011accuracy=0.935537\u001b[0m\n",
      "\u001b[34m[08/05/2022 18:08:54 INFO 139804867106624] Epoch[14] Batch [140]#011Speed: 34.319 samples/sec#011accuracy=0.933333\u001b[0m\n",
      "\u001b[34m[08/05/2022 18:08:57 INFO 139804867106624] Epoch[14] Batch [160]#011Speed: 34.361 samples/sec#011accuracy=0.925466\u001b[0m\n",
      "\u001b[34m[08/05/2022 18:08:58 INFO 139804867106624] Epoch[14] Train-accuracy=0.927811\u001b[0m\n",
      "\u001b[34m[08/05/2022 18:08:58 INFO 139804867106624] Epoch[14] Time cost=24.361\u001b[0m\n",
      "\u001b[34m[08/05/2022 18:09:00 INFO 139804867106624] Epoch[14] Validation-accuracy=0.741667\u001b[0m\n",
      "\u001b[34m[08/05/2022 18:09:04 INFO 139804867106624] Epoch[15] Batch [20]#011Speed: 29.945 samples/sec#011accuracy=0.904762\u001b[0m\n",
      "\u001b[34m[08/05/2022 18:09:08 INFO 139804867106624] Epoch[15] Batch [40]#011Speed: 30.522 samples/sec#011accuracy=0.931707\u001b[0m\n",
      "\u001b[34m[08/05/2022 18:09:10 INFO 139804867106624] Epoch[15] Batch [60]#011Speed: 31.838 samples/sec#011accuracy=0.944262\u001b[0m\n",
      "\u001b[34m[08/05/2022 18:09:13 INFO 139804867106624] Epoch[15] Batch [80]#011Speed: 32.535 samples/sec#011accuracy=0.940741\u001b[0m\n",
      "\u001b[34m[08/05/2022 18:09:16 INFO 139804867106624] Epoch[15] Batch [100]#011Speed: 32.929 samples/sec#011accuracy=0.936634\u001b[0m\n",
      "\u001b[34m[08/05/2022 18:09:19 INFO 139804867106624] Epoch[15] Batch [120]#011Speed: 33.276 samples/sec#011accuracy=0.923967\u001b[0m\n",
      "\u001b[34m[08/05/2022 18:09:22 INFO 139804867106624] Epoch[15] Batch [140]#011Speed: 33.530 samples/sec#011accuracy=0.920567\u001b[0m\n",
      "\u001b[34m[08/05/2022 18:09:25 INFO 139804867106624] Epoch[15] Batch [160]#011Speed: 33.725 samples/sec#011accuracy=0.911801\u001b[0m\n",
      "\u001b[34m[08/05/2022 18:09:26 INFO 139804867106624] Epoch[15] Train-accuracy=0.913609\u001b[0m\n",
      "\u001b[34m[08/05/2022 18:09:26 INFO 139804867106624] Epoch[15] Time cost=24.794\u001b[0m\n",
      "\u001b[34m[08/05/2022 18:09:28 INFO 139804867106624] Epoch[15] Validation-accuracy=0.747945\u001b[0m\n",
      "\u001b[34m[08/05/2022 18:09:32 INFO 139804867106624] Epoch[16] Batch [20]#011Speed: 32.486 samples/sec#011accuracy=0.971429\u001b[0m\n",
      "\u001b[34m[08/05/2022 18:09:35 INFO 139804867106624] Epoch[16] Batch [40]#011Speed: 33.458 samples/sec#011accuracy=0.951220\u001b[0m\n",
      "\u001b[34m[08/05/2022 18:09:38 INFO 139804867106624] Epoch[16] Batch [60]#011Speed: 34.007 samples/sec#011accuracy=0.950820\u001b[0m\n",
      "\u001b[34m[08/05/2022 18:09:41 INFO 139804867106624] Epoch[16] Batch [80]#011Speed: 34.256 samples/sec#011accuracy=0.955556\u001b[0m\n",
      "\u001b[34m[08/05/2022 18:09:43 INFO 139804867106624] Epoch[16] Batch [100]#011Speed: 34.315 samples/sec#011accuracy=0.956436\u001b[0m\n",
      "\u001b[34m[08/05/2022 18:09:46 INFO 139804867106624] Epoch[16] Batch [120]#011Speed: 34.374 samples/sec#011accuracy=0.955372\u001b[0m\n",
      "\u001b[34m[08/05/2022 18:09:49 INFO 139804867106624] Epoch[16] Batch [140]#011Speed: 34.474 samples/sec#011accuracy=0.961702\u001b[0m\n",
      "\u001b[34m[08/05/2022 18:09:52 INFO 139804867106624] Epoch[16] Batch [160]#011Speed: 34.600 samples/sec#011accuracy=0.960248\u001b[0m\n",
      "\u001b[34m[08/05/2022 18:09:53 INFO 139804867106624] Epoch[16] Train-accuracy=0.957396\u001b[0m\n",
      "\u001b[34m[08/05/2022 18:09:53 INFO 139804867106624] Epoch[16] Time cost=24.189\u001b[0m\n",
      "\u001b[34m[08/05/2022 18:09:55 INFO 139804867106624] Epoch[16] Validation-accuracy=0.777778\u001b[0m\n",
      "\u001b[34m[08/05/2022 18:09:59 INFO 139804867106624] Epoch[17] Batch [20]#011Speed: 32.207 samples/sec#011accuracy=0.971429\u001b[0m\n",
      "\u001b[34m[08/05/2022 18:10:02 INFO 139804867106624] Epoch[17] Batch [40]#011Speed: 32.983 samples/sec#011accuracy=0.951220\u001b[0m\n",
      "\u001b[34m[08/05/2022 18:10:05 INFO 139804867106624] Epoch[17] Batch [60]#011Speed: 32.508 samples/sec#011accuracy=0.931148\u001b[0m\n",
      "\u001b[34m[08/05/2022 18:10:08 INFO 139804867106624] Epoch[17] Batch [80]#011Speed: 32.964 samples/sec#011accuracy=0.943210\u001b[0m\n",
      "\u001b[34m[08/05/2022 18:10:11 INFO 139804867106624] Epoch[17] Batch [100]#011Speed: 33.374 samples/sec#011accuracy=0.942574\u001b[0m\n",
      "\u001b[34m[08/05/2022 18:10:14 INFO 139804867106624] Epoch[17] Batch [120]#011Speed: 33.659 samples/sec#011accuracy=0.938843\u001b[0m\n",
      "\u001b[34m[08/05/2022 18:10:17 INFO 139804867106624] Epoch[17] Batch [140]#011Speed: 33.802 samples/sec#011accuracy=0.946099\u001b[0m\n",
      "\u001b[34m[08/05/2022 18:10:20 INFO 139804867106624] Epoch[17] Batch [160]#011Speed: 34.009 samples/sec#011accuracy=0.941615\u001b[0m\n",
      "\u001b[34m[08/05/2022 18:10:21 INFO 139804867106624] Epoch[17] Train-accuracy=0.940828\u001b[0m\n",
      "\u001b[34m[08/05/2022 18:10:21 INFO 139804867106624] Epoch[17] Time cost=24.605\u001b[0m\n",
      "\u001b[34m[08/05/2022 18:10:23 INFO 139804867106624] Epoch[17] Validation-accuracy=0.709589\u001b[0m\n",
      "\u001b[34m[08/05/2022 18:10:27 INFO 139804867106624] Epoch[18] Batch [20]#011Speed: 32.305 samples/sec#011accuracy=0.961905\u001b[0m\n",
      "\u001b[34m[08/05/2022 18:10:30 INFO 139804867106624] Epoch[18] Batch [40]#011Speed: 33.434 samples/sec#011accuracy=0.960976\u001b[0m\n",
      "\u001b[34m[08/05/2022 18:10:33 INFO 139804867106624] Epoch[18] Batch [60]#011Speed: 33.944 samples/sec#011accuracy=0.967213\u001b[0m\n",
      "\u001b[34m[08/05/2022 18:10:35 INFO 139804867106624] Epoch[18] Batch [80]#011Speed: 34.251 samples/sec#011accuracy=0.958025\u001b[0m\n",
      "\u001b[34m[08/05/2022 18:10:38 INFO 139804867106624] Epoch[18] Batch [100]#011Speed: 34.285 samples/sec#011accuracy=0.952475\u001b[0m\n",
      "\u001b[34m[08/05/2022 18:10:41 INFO 139804867106624] Epoch[18] Batch [120]#011Speed: 34.430 samples/sec#011accuracy=0.947107\u001b[0m\n",
      "\u001b[34m[08/05/2022 18:10:44 INFO 139804867106624] Epoch[18] Batch [140]#011Speed: 34.368 samples/sec#011accuracy=0.944681\u001b[0m\n",
      "\u001b[34m[08/05/2022 18:10:47 INFO 139804867106624] Epoch[18] Batch [160]#011Speed: 34.546 samples/sec#011accuracy=0.942857\u001b[0m\n",
      "\u001b[34m[08/05/2022 18:10:48 INFO 139804867106624] Epoch[18] Train-accuracy=0.945562\u001b[0m\n",
      "\u001b[34m[08/05/2022 18:10:48 INFO 139804867106624] Epoch[18] Time cost=24.225\u001b[0m\n",
      "\u001b[34m[08/05/2022 18:10:50 INFO 139804867106624] Epoch[18] Validation-accuracy=0.791667\u001b[0m\n",
      "\u001b[34m[08/05/2022 18:10:54 INFO 139804867106624] Epoch[19] Batch [20]#011Speed: 32.252 samples/sec#011accuracy=0.942857\u001b[0m\n",
      "\u001b[34m[08/05/2022 18:10:57 INFO 139804867106624] Epoch[19] Batch [40]#011Speed: 33.230 samples/sec#011accuracy=0.946341\u001b[0m\n",
      "\u001b[34m[08/05/2022 18:11:00 INFO 139804867106624] Epoch[19] Batch [60]#011Speed: 33.528 samples/sec#011accuracy=0.931148\u001b[0m\n",
      "\u001b[34m[08/05/2022 18:11:03 INFO 139804867106624] Epoch[19] Batch [80]#011Speed: 33.137 samples/sec#011accuracy=0.933333\u001b[0m\n",
      "\u001b[34m[08/05/2022 18:11:06 INFO 139804867106624] Epoch[19] Batch [100]#011Speed: 32.875 samples/sec#011accuracy=0.922772\u001b[0m\n",
      "\u001b[34m[08/05/2022 18:11:09 INFO 139804867106624] Epoch[19] Batch [120]#011Speed: 33.117 samples/sec#011accuracy=0.925620\u001b[0m\n",
      "\u001b[34m[08/05/2022 18:11:12 INFO 139804867106624] Epoch[19] Batch [140]#011Speed: 33.342 samples/sec#011accuracy=0.933333\u001b[0m\n",
      "\u001b[34m[08/05/2022 18:11:15 INFO 139804867106624] Epoch[19] Batch [160]#011Speed: 33.637 samples/sec#011accuracy=0.932919\u001b[0m\n",
      "\u001b[34m[08/05/2022 18:11:16 INFO 139804867106624] Epoch[19] Train-accuracy=0.930178\u001b[0m\n",
      "\u001b[34m[08/05/2022 18:11:16 INFO 139804867106624] Epoch[19] Time cost=24.864\u001b[0m\n",
      "\u001b[34m[08/05/2022 18:11:18 INFO 139804867106624] Epoch[19] Validation-accuracy=0.791667\u001b[0m\n",
      "\u001b[34m[08/05/2022 18:11:22 INFO 139804867106624] Epoch[20] Batch [20]#011Speed: 31.202 samples/sec#011accuracy=0.990476\u001b[0m\n",
      "\u001b[34m[08/05/2022 18:11:25 INFO 139804867106624] Epoch[20] Batch [40]#011Speed: 32.822 samples/sec#011accuracy=0.985366\u001b[0m\n",
      "\u001b[34m[08/05/2022 18:11:28 INFO 139804867106624] Epoch[20] Batch [60]#011Speed: 33.591 samples/sec#011accuracy=0.980328\u001b[0m\n",
      "\u001b[34m[08/05/2022 18:11:30 INFO 139804867106624] Epoch[20] Batch [80]#011Speed: 34.015 samples/sec#011accuracy=0.980247\u001b[0m\n",
      "\u001b[34m[08/05/2022 18:11:33 INFO 139804867106624] Epoch[20] Batch [100]#011Speed: 34.202 samples/sec#011accuracy=0.974257\u001b[0m\n",
      "\u001b[34m[08/05/2022 18:11:36 INFO 139804867106624] Epoch[20] Batch [120]#011Speed: 34.343 samples/sec#011accuracy=0.971901\u001b[0m\n",
      "\u001b[34m[08/05/2022 18:11:39 INFO 139804867106624] Epoch[20] Batch [140]#011Speed: 34.374 samples/sec#011accuracy=0.973050\u001b[0m\n",
      "\u001b[34m[08/05/2022 18:11:42 INFO 139804867106624] Epoch[20] Batch [160]#011Speed: 34.471 samples/sec#011accuracy=0.971429\u001b[0m\n",
      "\u001b[34m[08/05/2022 18:11:43 INFO 139804867106624] Epoch[20] Train-accuracy=0.969231\u001b[0m\n",
      "\u001b[34m[08/05/2022 18:11:43 INFO 139804867106624] Epoch[20] Time cost=24.293\u001b[0m\n",
      "\u001b[34m[08/05/2022 18:11:45 INFO 139804867106624] Epoch[20] Validation-accuracy=0.775342\u001b[0m\n",
      "\u001b[34m[08/05/2022 18:11:49 INFO 139804867106624] Epoch[21] Batch [20]#011Speed: 32.295 samples/sec#011accuracy=0.971429\u001b[0m\n",
      "\u001b[34m[08/05/2022 18:11:52 INFO 139804867106624] Epoch[21] Batch [40]#011Speed: 33.326 samples/sec#011accuracy=0.960976\u001b[0m\n",
      "\u001b[34m[08/05/2022 18:11:55 INFO 139804867106624] Epoch[21] Batch [60]#011Speed: 33.735 samples/sec#011accuracy=0.967213\u001b[0m\n",
      "\u001b[34m[08/05/2022 18:11:58 INFO 139804867106624] Epoch[21] Batch [80]#011Speed: 34.059 samples/sec#011accuracy=0.965432\u001b[0m\n",
      "\u001b[34m[08/05/2022 18:12:01 INFO 139804867106624] Epoch[21] Batch [100]#011Speed: 34.145 samples/sec#011accuracy=0.958416\u001b[0m\n",
      "\u001b[34m[08/05/2022 18:12:04 INFO 139804867106624] Epoch[21] Batch [120]#011Speed: 33.677 samples/sec#011accuracy=0.953719\u001b[0m\n",
      "\u001b[34m[08/05/2022 18:12:07 INFO 139804867106624] Epoch[21] Batch [140]#011Speed: 33.516 samples/sec#011accuracy=0.957447\u001b[0m\n",
      "\u001b[34m[08/05/2022 18:12:10 INFO 139804867106624] Epoch[21] Batch [160]#011Speed: 33.759 samples/sec#011accuracy=0.959006\u001b[0m\n",
      "\u001b[34m[08/05/2022 18:12:11 INFO 139804867106624] Epoch[21] Train-accuracy=0.958580\u001b[0m\n",
      "\u001b[34m[08/05/2022 18:12:11 INFO 139804867106624] Epoch[21] Time cost=24.779\u001b[0m\n",
      "\u001b[34m[08/05/2022 18:12:13 INFO 139804867106624] Epoch[21] Validation-accuracy=0.775000\u001b[0m\n",
      "\u001b[34m[08/05/2022 18:12:17 INFO 139804867106624] Epoch[22] Batch [20]#011Speed: 32.566 samples/sec#011accuracy=0.980952\u001b[0m\n",
      "\u001b[34m[08/05/2022 18:12:20 INFO 139804867106624] Epoch[22] Batch [40]#011Speed: 33.653 samples/sec#011accuracy=0.985366\u001b[0m\n",
      "\u001b[34m[08/05/2022 18:12:23 INFO 139804867106624] Epoch[22] Batch [60]#011Speed: 34.080 samples/sec#011accuracy=0.980328\u001b[0m\n",
      "\u001b[34m[08/05/2022 18:12:26 INFO 139804867106624] Epoch[22] Batch [80]#011Speed: 34.333 samples/sec#011accuracy=0.982716\u001b[0m\n",
      "\u001b[34m[08/05/2022 18:12:28 INFO 139804867106624] Epoch[22] Batch [100]#011Speed: 34.465 samples/sec#011accuracy=0.976238\u001b[0m\n",
      "\u001b[34m[08/05/2022 18:12:31 INFO 139804867106624] Epoch[22] Batch [120]#011Speed: 34.589 samples/sec#011accuracy=0.960331\u001b[0m\n",
      "\u001b[34m[08/05/2022 18:12:34 INFO 139804867106624] Epoch[22] Batch [140]#011Speed: 34.641 samples/sec#011accuracy=0.961702\u001b[0m\n",
      "\u001b[34m[08/05/2022 18:12:37 INFO 139804867106624] Epoch[22] Batch [160]#011Speed: 34.770 samples/sec#011accuracy=0.962733\u001b[0m\n",
      "\u001b[34m[08/05/2022 18:12:38 INFO 139804867106624] Epoch[22] Train-accuracy=0.963314\u001b[0m\n",
      "\u001b[34m[08/05/2022 18:12:38 INFO 139804867106624] Epoch[22] Time cost=24.090\u001b[0m\n",
      "\u001b[34m[08/05/2022 18:12:40 INFO 139804867106624] Epoch[22] Validation-accuracy=0.772603\u001b[0m\n",
      "\u001b[34m[08/05/2022 18:12:44 INFO 139804867106624] Epoch[23] Batch [20]#011Speed: 32.668 samples/sec#011accuracy=0.971429\u001b[0m\n",
      "\u001b[34m[08/05/2022 18:12:47 INFO 139804867106624] Epoch[23] Batch [40]#011Speed: 33.575 samples/sec#011accuracy=0.985366\u001b[0m\n",
      "\u001b[34m[08/05/2022 18:12:50 INFO 139804867106624] Epoch[23] Batch [60]#011Speed: 33.965 samples/sec#011accuracy=0.986885\u001b[0m\n",
      "\u001b[34m[08/05/2022 18:12:53 INFO 139804867106624] Epoch[23] Batch [80]#011Speed: 34.162 samples/sec#011accuracy=0.987654\u001b[0m\n",
      "\u001b[34m[08/05/2022 18:12:56 INFO 139804867106624] Epoch[23] Batch [100]#011Speed: 34.215 samples/sec#011accuracy=0.968317\u001b[0m\n",
      "\u001b[34m[08/05/2022 18:12:59 INFO 139804867106624] Epoch[23] Batch [120]#011Speed: 34.308 samples/sec#011accuracy=0.958678\u001b[0m\n",
      "\u001b[34m[08/05/2022 18:13:01 INFO 139804867106624] Epoch[23] Batch [140]#011Speed: 34.279 samples/sec#011accuracy=0.964539\u001b[0m\n",
      "\u001b[34m[08/05/2022 18:13:04 INFO 139804867106624] Epoch[23] Batch [160]#011Speed: 34.140 samples/sec#011accuracy=0.961491\u001b[0m\n",
      "\u001b[34m[08/05/2022 18:13:06 INFO 139804867106624] Epoch[23] Train-accuracy=0.959763\u001b[0m\n",
      "\u001b[34m[08/05/2022 18:13:06 INFO 139804867106624] Epoch[23] Time cost=24.580\u001b[0m\n",
      "\u001b[34m[08/05/2022 18:13:08 INFO 139804867106624] Epoch[23] Validation-accuracy=0.741667\u001b[0m\n",
      "\u001b[34m[08/05/2022 18:13:12 INFO 139804867106624] Epoch[24] Batch [20]#011Speed: 32.809 samples/sec#011accuracy=0.904762\u001b[0m\n",
      "\u001b[34m[08/05/2022 18:13:15 INFO 139804867106624] Epoch[24] Batch [40]#011Speed: 33.644 samples/sec#011accuracy=0.946341\u001b[0m\n",
      "\u001b[34m[08/05/2022 18:13:17 INFO 139804867106624] Epoch[24] Batch [60]#011Speed: 34.228 samples/sec#011accuracy=0.960656\u001b[0m\n",
      "\u001b[34m[08/05/2022 18:13:20 INFO 139804867106624] Epoch[24] Batch [80]#011Speed: 34.455 samples/sec#011accuracy=0.955556\u001b[0m\n",
      "\u001b[34m[08/05/2022 18:13:23 INFO 139804867106624] Epoch[24] Batch [100]#011Speed: 34.549 samples/sec#011accuracy=0.946535\u001b[0m\n",
      "\u001b[34m[08/05/2022 18:13:26 INFO 139804867106624] Epoch[24] Batch [120]#011Speed: 34.660 samples/sec#011accuracy=0.947107\u001b[0m\n",
      "\u001b[34m[08/05/2022 18:13:29 INFO 139804867106624] Epoch[24] Batch [140]#011Speed: 34.704 samples/sec#011accuracy=0.947518\u001b[0m\n",
      "\u001b[34m[08/05/2022 18:13:32 INFO 139804867106624] Epoch[24] Batch [160]#011Speed: 34.811 samples/sec#011accuracy=0.941615\u001b[0m\n",
      "\u001b[34m[08/05/2022 18:13:33 INFO 139804867106624] Epoch[24] Train-accuracy=0.944379\u001b[0m\n",
      "\u001b[34m[08/05/2022 18:13:33 INFO 139804867106624] Epoch[24] Time cost=24.071\u001b[0m\n",
      "\u001b[34m[08/05/2022 18:13:35 INFO 139804867106624] Epoch[24] Validation-accuracy=0.711111\u001b[0m\n",
      "\u001b[34m[08/05/2022 18:13:39 INFO 139804867106624] Epoch[25] Batch [20]#011Speed: 30.216 samples/sec#011accuracy=0.942857\u001b[0m\n",
      "\u001b[34m[08/05/2022 18:13:42 INFO 139804867106624] Epoch[25] Batch [40]#011Speed: 32.257 samples/sec#011accuracy=0.956098\u001b[0m\n",
      "\u001b[34m[08/05/2022 18:13:45 INFO 139804867106624] Epoch[25] Batch [60]#011Speed: 33.218 samples/sec#011accuracy=0.970492\u001b[0m\n",
      "\u001b[34m[08/05/2022 18:13:48 INFO 139804867106624] Epoch[25] Batch [80]#011Speed: 33.551 samples/sec#011accuracy=0.972840\u001b[0m\n",
      "\u001b[34m[08/05/2022 18:13:51 INFO 139804867106624] Epoch[25] Batch [100]#011Speed: 33.743 samples/sec#011accuracy=0.962376\u001b[0m\n",
      "\u001b[34m[08/05/2022 18:13:53 INFO 139804867106624] Epoch[25] Batch [120]#011Speed: 33.928 samples/sec#011accuracy=0.955372\u001b[0m\n",
      "\u001b[34m[08/05/2022 18:13:56 INFO 139804867106624] Epoch[25] Batch [140]#011Speed: 33.970 samples/sec#011accuracy=0.960284\u001b[0m\n",
      "\u001b[34m[08/05/2022 18:13:59 INFO 139804867106624] Epoch[25] Batch [160]#011Speed: 34.035 samples/sec#011accuracy=0.961491\u001b[0m\n",
      "\u001b[34m[08/05/2022 18:14:00 INFO 139804867106624] Epoch[25] Train-accuracy=0.962130\u001b[0m\n",
      "\u001b[34m[08/05/2022 18:14:00 INFO 139804867106624] Epoch[25] Time cost=24.596\u001b[0m\n",
      "\u001b[34m[08/05/2022 18:14:03 INFO 139804867106624] Epoch[25] Validation-accuracy=0.778082\u001b[0m\n",
      "\u001b[34m[08/05/2022 18:14:07 INFO 139804867106624] Epoch[26] Batch [20]#011Speed: 30.295 samples/sec#011accuracy=1.000000\u001b[0m\n",
      "\u001b[34m[08/05/2022 18:14:10 INFO 139804867106624] Epoch[26] Batch [40]#011Speed: 32.499 samples/sec#011accuracy=0.990244\u001b[0m\n",
      "\u001b[34m[08/05/2022 18:14:13 INFO 139804867106624] Epoch[26] Batch [60]#011Speed: 33.187 samples/sec#011accuracy=0.977049\u001b[0m\n",
      "\u001b[34m[08/05/2022 18:14:15 INFO 139804867106624] Epoch[26] Batch [80]#011Speed: 33.751 samples/sec#011accuracy=0.980247\u001b[0m\n",
      "\u001b[34m[08/05/2022 18:14:18 INFO 139804867106624] Epoch[26] Batch [100]#011Speed: 34.013 samples/sec#011accuracy=0.980198\u001b[0m\n",
      "\u001b[34m[08/05/2022 18:14:21 INFO 139804867106624] Epoch[26] Batch [120]#011Speed: 34.224 samples/sec#011accuracy=0.983471\u001b[0m\n",
      "\u001b[34m[08/05/2022 18:14:24 INFO 139804867106624] Epoch[26] Batch [140]#011Speed: 34.349 samples/sec#011accuracy=0.978723\u001b[0m\n",
      "\u001b[34m[08/05/2022 18:14:27 INFO 139804867106624] Epoch[26] Batch [160]#011Speed: 34.371 samples/sec#011accuracy=0.975155\u001b[0m\n",
      "\u001b[34m[08/05/2022 18:14:28 INFO 139804867106624] Epoch[26] Train-accuracy=0.975148\u001b[0m\n",
      "\u001b[34m[08/05/2022 18:14:28 INFO 139804867106624] Epoch[26] Time cost=24.336\u001b[0m\n",
      "\u001b[34m[08/05/2022 18:14:30 INFO 139804867106624] Epoch[26] Validation-accuracy=0.705556\u001b[0m\n",
      "\u001b[34m[08/05/2022 18:14:34 INFO 139804867106624] Epoch[27] Batch [20]#011Speed: 31.982 samples/sec#011accuracy=0.961905\u001b[0m\n",
      "\u001b[34m[08/05/2022 18:14:37 INFO 139804867106624] Epoch[27] Batch [40]#011Speed: 33.352 samples/sec#011accuracy=0.980488\u001b[0m\n",
      "\u001b[34m[08/05/2022 18:14:40 INFO 139804867106624] Epoch[27] Batch [60]#011Speed: 33.973 samples/sec#011accuracy=0.977049\u001b[0m\n",
      "\u001b[34m[08/05/2022 18:14:43 INFO 139804867106624] Epoch[27] Batch [80]#011Speed: 34.229 samples/sec#011accuracy=0.980247\u001b[0m\n",
      "\u001b[34m[08/05/2022 18:14:45 INFO 139804867106624] Epoch[27] Batch [100]#011Speed: 34.320 samples/sec#011accuracy=0.978218\u001b[0m\n",
      "\u001b[34m[08/05/2022 18:14:48 INFO 139804867106624] Epoch[27] Batch [120]#011Speed: 34.495 samples/sec#011accuracy=0.980165\u001b[0m\n",
      "\u001b[34m[08/05/2022 18:14:51 INFO 139804867106624] Epoch[27] Batch [140]#011Speed: 34.593 samples/sec#011accuracy=0.982979\u001b[0m\n",
      "\u001b[34m[08/05/2022 18:14:54 INFO 139804867106624] Epoch[27] Batch [160]#011Speed: 34.719 samples/sec#011accuracy=0.977640\u001b[0m\n",
      "\u001b[34m[08/05/2022 18:14:55 INFO 139804867106624] Epoch[27] Train-accuracy=0.976331\u001b[0m\n",
      "\u001b[34m[08/05/2022 18:14:55 INFO 139804867106624] Epoch[27] Time cost=24.147\u001b[0m\n",
      "\u001b[34m[08/05/2022 18:14:57 INFO 139804867106624] Epoch[27] Validation-accuracy=0.739726\u001b[0m\n",
      "\u001b[34m[08/05/2022 18:15:01 INFO 139804867106624] Epoch[28] Batch [20]#011Speed: 32.352 samples/sec#011accuracy=0.942857\u001b[0m\n",
      "\u001b[34m[08/05/2022 18:15:04 INFO 139804867106624] Epoch[28] Batch [40]#011Speed: 32.009 samples/sec#011accuracy=0.951220\u001b[0m\n",
      "\u001b[34m[08/05/2022 18:15:07 INFO 139804867106624] Epoch[28] Batch [60]#011Speed: 31.865 samples/sec#011accuracy=0.963934\u001b[0m\n",
      "\u001b[34m[08/05/2022 18:15:10 INFO 139804867106624] Epoch[28] Batch [80]#011Speed: 32.599 samples/sec#011accuracy=0.970370\u001b[0m\n",
      "\u001b[34m[08/05/2022 18:15:13 INFO 139804867106624] Epoch[28] Batch [100]#011Speed: 32.801 samples/sec#011accuracy=0.952475\u001b[0m\n",
      "\u001b[34m[08/05/2022 18:15:16 INFO 139804867106624] Epoch[28] Batch [120]#011Speed: 33.224 samples/sec#011accuracy=0.953719\u001b[0m\n",
      "\u001b[34m[08/05/2022 18:15:19 INFO 139804867106624] Epoch[28] Batch [140]#011Speed: 33.438 samples/sec#011accuracy=0.957447\u001b[0m\n",
      "\u001b[34m[08/05/2022 18:15:22 INFO 139804867106624] Epoch[28] Batch [160]#011Speed: 33.557 samples/sec#011accuracy=0.960248\u001b[0m\n",
      "\u001b[34m[08/05/2022 18:15:23 INFO 139804867106624] Epoch[28] Train-accuracy=0.960947\u001b[0m\n",
      "\u001b[34m[08/05/2022 18:15:23 INFO 139804867106624] Epoch[28] Time cost=24.913\u001b[0m\n",
      "\u001b[34m[08/05/2022 18:15:25 INFO 139804867106624] Epoch[28] Validation-accuracy=0.775000\u001b[0m\n",
      "\u001b[34m[08/05/2022 18:15:29 INFO 139804867106624] Epoch[29] Batch [20]#011Speed: 32.798 samples/sec#011accuracy=1.000000\u001b[0m\n",
      "\u001b[34m[08/05/2022 18:15:32 INFO 139804867106624] Epoch[29] Batch [40]#011Speed: 33.166 samples/sec#011accuracy=1.000000\u001b[0m\n",
      "\u001b[34m[08/05/2022 18:15:35 INFO 139804867106624] Epoch[29] Batch [60]#011Speed: 33.977 samples/sec#011accuracy=0.993443\u001b[0m\n",
      "\u001b[34m[08/05/2022 18:15:38 INFO 139804867106624] Epoch[29] Batch [80]#011Speed: 34.292 samples/sec#011accuracy=0.992593\u001b[0m\n",
      "\u001b[34m[08/05/2022 18:15:40 INFO 139804867106624] Epoch[29] Batch [100]#011Speed: 34.371 samples/sec#011accuracy=0.978218\u001b[0m\n",
      "\u001b[34m[08/05/2022 18:15:43 INFO 139804867106624] Epoch[29] Batch [120]#011Speed: 34.429 samples/sec#011accuracy=0.971901\u001b[0m\n",
      "\u001b[34m[08/05/2022 18:15:46 INFO 139804867106624] Epoch[29] Batch [140]#011Speed: 34.525 samples/sec#011accuracy=0.974468\u001b[0m\n",
      "\u001b[34m[08/05/2022 18:15:49 INFO 139804867106624] Epoch[29] Batch [160]#011Speed: 34.723 samples/sec#011accuracy=0.976398\u001b[0m\n",
      "\u001b[34m[08/05/2022 18:15:50 INFO 139804867106624] Epoch[29] Train-accuracy=0.977515\u001b[0m\n",
      "\u001b[34m[08/05/2022 18:15:50 INFO 139804867106624] Epoch[29] Time cost=24.135\u001b[0m\n",
      "\u001b[34m[08/05/2022 18:15:52 INFO 139804867106624] Epoch[29] Validation-accuracy=0.794444\u001b[0m\n",
      "\n",
      "2022-08-05 18:16:01 Uploading - Uploading generated training model\n",
      "2022-08-05 18:16:35 Completed - Training job completed\n",
      "Training seconds: 1003\n",
      "Billable seconds: 1003\n",
      "\n",
      "\n",
      " Finished training! The model is available for download at: s3://sagemaker-us-east-1-567669566640/animals/output/IC-animals-1659722292/output/model.tar.gz\n",
      "CPU times: user 2.26 s, sys: 204 ms, total: 2.47 s\n",
      "Wall time: 18min 38s\n"
     ]
    }
   ],
   "source": [
    "%%time\n",
    "\n",
    "import time\n",
    "now = str(int(time.time()))\n",
    "training_job_name = 'IC-' + dataset_name.replace('_', '-') + '-' + now\n",
    "\n",
    "image_classifier.fit(inputs=data_channels, job_name=training_job_name, logs=True)\n",
    "\n",
    "job = image_classifier.latest_training_job\n",
    "print(job)\n",
    "model_path = f\"{base_dir}/{job.name}\"\n",
    "\n",
    "print(f\"\\n\\n Finished training! The model is available for download at: {image_classifier.output_path}/{job.name}/output/model.tar.gz\")"
   ]
  },
  {
   "cell_type": "markdown",
   "metadata": {},
   "source": [
    "## Deploy the trained model\n",
    "Once a model has been trained, we can use the same `image_classifier` object to create a deployed, fully-managed endpoint.}\n",
    "\n",
    "More info here: https://sagemaker.readthedocs.io/en/stable/estimators.html#sagemaker.estimator.Estimator.deploy"
   ]
  },
  {
   "cell_type": "code",
   "execution_count": 2,
   "metadata": {},
   "outputs": [
    {
     "ename": "NameError",
     "evalue": "name 'image_classifier' is not defined",
     "output_type": "error",
     "traceback": [
      "\u001b[0;31m---------------------------------------------------------------------------\u001b[0m",
      "\u001b[0;31mNameError\u001b[0m                                 Traceback (most recent call last)",
      "\u001b[0;32m<timed eval>\u001b[0m in \u001b[0;36m<module>\u001b[0;34m\u001b[0m\n",
      "\u001b[0;31mNameError\u001b[0m: name 'image_classifier' is not defined"
     ]
    }
   ],
   "source": [
    "%%time\n",
    "# Deploying a model to an endpoint takes a few minutes to complete\n",
    "\n",
    "\n",
    "deployed_endpoint = image_classifier.deploy(\n",
    "    initial_instance_count = 1,\n",
    "    instance_type = 'ml.t2.medium'\n",
    ")"
   ]
  },
  {
   "cell_type": "markdown",
   "metadata": {},
   "source": [
    "<h2> Real time inference with an image </h2>\n",
    "<p> This is optional. Work in progress </p>\n"
   ]
  },
  {
   "cell_type": "code",
   "execution_count": 13,
   "metadata": {},
   "outputs": [],
   "source": [
    "# test image\n",
    "from IPython.display import Image"
   ]
  },
  {
   "cell_type": "code",
   "execution_count": 14,
   "metadata": {},
   "outputs": [
    {
     "data": {
      "image/jpeg": "[encoded data removed]",
      "text/plain": [
       "<IPython.core.display.Image object>"
      ]
     },
     "execution_count": 14,
     "metadata": {},
     "output_type": "execute_result"
    }
   ],
   "source": [
    "file_name='test_dog/test8.jpg'\n",
    "Image(file_name)"
   ]
  },
  {
   "cell_type": "code",
   "execution_count": 15,
   "metadata": {},
   "outputs": [
    {
     "name": "stdout",
     "output_type": "stream",
     "text": [
      "Result: label - dogs, probability - 0.9999748468399048\n",
      "0.9999748468399048\n"
     ]
    }
   ],
   "source": [
    "import json\n",
    "import numpy as np\n",
    "import boto3\n",
    "\n",
    "runtime = boto3.Session().client(service_name=\"runtime.sagemaker\")\n",
    "\n",
    "with open(file_name, \"rb\") as f:\n",
    "    payload = f.read()\n",
    "    payload = bytearray(payload)\n",
    "response = runtime.invoke_endpoint(\n",
    "    EndpointName='image-classification-2022-07-23-20-02-27-006', ContentType=\"application/x-image\", Body=payload\n",
    ")\n",
    "result = response[\"Body\"].read()\n",
    "# result will be in json format and convert it to ndarray\n",
    "result = json.loads(result)\n",
    "# the result will output the probabilities for all classes\n",
    "# find the class with maximum probability and print the class index\n",
    "index = np.argmax(result)\n",
    "\n",
    "object_categories = [\n",
    "    'cats',\n",
    "    'dogs'\n",
    "]\n",
    "print(\"Result: label - \" + object_categories[index] + \", probability - \" + str(result[index]))\n",
    "infer = result[index]\n",
    "print(infer)\n"
   ]
  },
  {
   "cell_type": "markdown",
   "metadata": {},
   "source": [
    "<h2>Generate inferences through a React app - OPTIONAL</h2>"
   ]
  },
  {
   "cell_type": "markdown",
   "metadata": {},
   "source": [
    "<h4>Follow this link to install node and npm on your machine. MacOS and Windows installation process is listed<h3>\n",
    "<h5>https://radixweb.com/blog/installing-npm-and-nodejs-on-windows-and-mac</h5>"
   ]
  },
  {
   "cell_type": "markdown",
   "metadata": {},
   "source": [
    "## Setting up the environment\n",
    "Here we set up the linkage and authentication to AWS services\n",
    "\n",
    "- <i>npm install</i>\n",
    "- <i>amplify init</i>\n",
    "    <ul>\n",
    "    <li>Enter a name for the project: sagemaker-inference</li>\n",
    "    <li>Initialize the project with the above configuration: Y</li>\n",
    "    <li> Select the authentication method you want to use: AWS Profile</li>\n",
    "    <li>Please choose the profile you want to use: default(if available)</li>\n",
    "    </ul>\n",
    "    \n",
    "    \n",
    "    Note: Please wait till AWS Cloudformation deploys the project\n",
    "\n",
    "- <i>amplify add api</i> \n",
    "    <ul>\n",
    "    <li>Select from one of the below mentioned services: REST</li>\n",
    "    <li>Provide a friendly name for your resource to be used as a label for this category in the project: Pick any random name</li>\n",
    "    <li>Provide a path (e.g., /book/{isbn}): /classify</li>\n",
    "    <li>Choose a Lambda source: Create a new Lambda function</li>\n",
    "    <li>Provide an AWS Lambda function name: provide any name</li>\n",
    "    <li>Choose the runtime that you want to use: NodeJS</li>\n",
    "    <li>Choose the function template that you want to use: Serverless ExpressJS function (Integration with API Gateway)</li>\n",
    "    <li>Do you want to configure advanced settings?: N</li>\n",
    "    <li>Do you want to edit the local lambda function now?: Y</li>\n",
    "    <li>Choose your default editor: Choose any editor you are comfortable with. I picked Visual Studio code. This will open the editor for you with a base app.js file. Add the contents of lambda/app.js from this git source to the file displayed by the editor</li>\n",
    "    <li> Restrict API access: N</li>\n",
    "    <li>Do you want to add another path?: N</li>\n",
    "    </ul>\n",
    "    \n",
    "    Note: Wait till all resources are added by amplify\n",
    "- <i>amplify push</i>\n",
    "    \n",
    "- <i>amplify env pull</i>\n",
    "- Find the IAM role created by Amplify to run the Lambda function -- look in sagemaker-inference/amplify/backend/function/<<your_function_name>>/*-cloudformation-template.json for the role name.\n",
    "- In the AWS IAM console, edit the role from the step above and add the following policy to it (or copy just the statement and add it to the existing lambdaexecution policy):\n",
    "\n",
    "```{\n",
    "    \"Version\": \"2012-10-17\",\n",
    "    \"Statement\": [\n",
    "        {\n",
    "            \"Action\": [\n",
    "                \"logs:CreateLogGroup\",\n",
    "                \"logs:CreateLogStream\",\n",
    "                \"logs:PutLogEvents\",\n",
    "                \"sagemaker:InvokeEndpoint\"\n",
    "            ],\n",
    "            \"Resource\": \"arn:aws:logs:us-east-1:567669566640:log-group:/aws/lambda/<<Your IAM role>>:log-stream:*\",\n",
    "            \"Effect\": \"Allow\"\n",
    "        }\n",
    "    ]\n",
    "}\n",
    " ```\n",
    "\n",
    "- npm start\n",
    "\n",
    "Wait for the UI to load into the browser"
   ]
  },
  {
   "cell_type": "markdown",
   "metadata": {},
   "source": [
    "Here's a **cat** for you <img src=\"cards_0.jpg\" width=800 height=800 />"
   ]
  },
  {
   "cell_type": "code",
   "execution_count": null,
   "metadata": {},
   "outputs": [],
   "source": []
  }
 ],
 "metadata": {
  "instance_type": "ml.t3.medium",
  "kernelspec": {
   "display_name": "Python 3 (Data Science)",
   "language": "python",
   "name": "python3__SAGEMAKER_INTERNAL__arn:aws:sagemaker:us-east-1:081325390199:image/datascience-1.0"
  },
  "language_info": {
   "codemirror_mode": {
    "name": "ipython",
    "version": 3
   },
   "file_extension": ".py",
   "mimetype": "text/x-python",
   "name": "python",
   "nbconvert_exporter": "python",
   "pygments_lexer": "ipython3",
   "version": "3.7.10"
  }
 },
 "nbformat": 4,
 "nbformat_minor": 4
}
