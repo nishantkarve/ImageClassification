{
 "cells": [
  {
   "cell_type": "code",
   "execution_count": 56,
   "metadata": {},
   "outputs": [],
   "source": [
    "import sagemaker\n",
    "import boto3\n",
    "from pathlib import Path\n",
    "import pandas as pd\n",
    "import json\n",
    "import os"
   ]
  },
  {
   "cell_type": "code",
   "execution_count": 57,
   "metadata": {},
   "outputs": [],
   "source": [
    "BUCKET = 'bax-bees'\n",
    "PREFIX = 'input'\n",
    "ROOT = Path('../s3')\n",
    "MANIFEST_KEY = 'manifest/output.json'\n",
    "MANIFEST_FILE = ROOT/MANIFEST_KEY"
   ]
  },
  {
   "cell_type": "code",
   "execution_count": 60,
   "metadata": {},
   "outputs": [],
   "source": [
    "!aws s3 ls s3://bax-bees/input/ | awk '{ print $4; }' > image_list.csv"
   ]
  },
  {
   "cell_type": "code",
   "execution_count": 61,
   "metadata": {},
   "outputs": [],
   "source": [
    "MANIFEST_FILE.parent.mkdir(parents=True,exist_ok=True)\n",
    "df = pd.read_csv('image_list.csv')\n",
    "with open(MANIFEST_FILE, 'w') as outfile:\n",
    "    for key in df.values:\n",
    "        s = json.dumps({\"source-ref\": 's3://' + str(Path(BUCKET, PREFIX, key[0]))})\n",
    "        outfile.write(s + '\\n')"
   ]
  },
  {
   "cell_type": "code",
   "execution_count": 62,
   "metadata": {},
   "outputs": [
    {
     "name": "stdout",
     "output_type": "stream",
     "text": [
      "{\"source-ref\": \"s3://bax-bees/input/10022723.jpg\"}\n",
      "{\"source-ref\": \"s3://bax-bees/input/10059108.jpg\"}\n",
      "{\"source-ref\": \"s3://bax-bees/input/10250726.jpg\"}\n",
      "{\"source-ref\": \"s3://bax-bees/input/1025450.jpg\"}\n",
      "{\"source-ref\": \"s3://bax-bees/input/10299519.jpg\"}\n",
      "{\"source-ref\": \"s3://bax-bees/input/10311147.jpg\"}\n",
      "{\"source-ref\": \"s3://bax-bees/input/10437385.jpg\"}\n",
      "{\"source-ref\": \"s3://bax-bees/input/10551061.jpg\"}\n",
      "{\"source-ref\": \"s3://bax-bees/input/1060304.jpg\"}\n",
      "{\"source-ref\": \"s3://bax-bees/input/10631806.jpg\"}\n"
     ]
    }
   ],
   "source": [
    "!head $MANIFEST_FILE"
   ]
  },
  {
   "cell_type": "code",
   "execution_count": 63,
   "metadata": {},
   "outputs": [
    {
     "name": "stdout",
     "output_type": "stream",
     "text": [
      "upload: ../s3/manifest/output.json to s3://bax-bees/manifest/output.json\n"
     ]
    }
   ],
   "source": [
    "!aws s3 cp $MANIFEST_FILE s3://$BUCKET/$MANIFEST_KEY"
   ]
  },
  {
   "cell_type": "code",
   "execution_count": null,
   "metadata": {},
   "outputs": [],
   "source": []
  }
 ],
 "metadata": {
  "instance_type": "ml.t3.medium",
  "kernelspec": {
   "display_name": "Python 3 (Data Science)",
   "language": "python",
   "name": "python3__SAGEMAKER_INTERNAL__arn:aws:sagemaker:us-east-1:081325390199:image/datascience-1.0"
  },
  "language_info": {
   "codemirror_mode": {
    "name": "ipython",
    "version": 3
   },
   "file_extension": ".py",
   "mimetype": "text/x-python",
   "name": "python",
   "nbconvert_exporter": "python",
   "pygments_lexer": "ipython3",
   "version": "3.7.10"
  }
 },
 "nbformat": 4,
 "nbformat_minor": 4
}
